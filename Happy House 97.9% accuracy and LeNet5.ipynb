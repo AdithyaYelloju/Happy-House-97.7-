{
 "cells": [
  {
   "cell_type": "markdown",
   "metadata": {},
   "source": [
    "## The Happy House \n",
    "\n",
    "### Problem Statement:\n",
    "Predicting your emotion happy or not.\n",
    "\n",
    "\n",
    "\n",
    "In this,\n",
    "1. We are going to build 2 types of Architecture of Neural Network among those one is Lenet-5 \n",
    "2. Comparing Various Optimizers\n",
    "3. Variously trained models(Different epochs and batch size)\n",
    "\n",
    "Dataset is pictures from the front door camera to check if the person is happy or not.  The dataset is labbeled.\n",
    "\n",
    "**Details of the \"Happy\" dataset**:\n",
    "- Images are of shape (64,64,3)\n",
    "- Training: 600 pictures\n",
    "- Test: 150 pictures\n",
    "\n",
    "Dataset available in <a href=\"https://www.kaggle.com/iarunava/happy-house-dataset\">Kaggle</a>\n",
    "\n",
    "It is now time to solve the \"Happy\" Challenge."
   ]
  },
  {
   "cell_type": "markdown",
   "metadata": {},
   "source": [
    "## 1 - Importing Libraries and Data "
   ]
  },
  {
   "cell_type": "code",
   "execution_count": 1,
   "metadata": {},
   "outputs": [
    {
     "name": "stderr",
     "output_type": "stream",
     "text": [
      "Using TensorFlow backend.\n"
     ]
    }
   ],
   "source": [
    "import numpy as np\n",
    "import h5py\n",
    "\n",
    "from keras import layers\n",
    "from keras.layers import Input, Dense, Activation, ZeroPadding2D, BatchNormalization, Flatten, Conv2D\n",
    "from keras.layers import AveragePooling2D, MaxPooling2D\n",
    "from keras.models import Model\n",
    "from keras.preprocessing import image\n",
    "from keras.utils import layer_utils\n",
    "from keras.utils.data_utils import get_file\n",
    "from keras.applications.imagenet_utils import preprocess_input\n",
    "from keras.models import Sequential\n",
    "import pydot\n",
    "from IPython.display import SVG\n",
    "from keras.utils.vis_utils import model_to_dot\n",
    "from keras.utils import plot_model\n",
    "\n",
    "\n",
    "import keras.backend as K\n",
    "K.set_image_data_format('channels_last')\n",
    "import matplotlib.pyplot as plt\n",
    "from matplotlib.pyplot import imshow\n",
    "\n",
    "%matplotlib inline"
   ]
  },
  {
   "cell_type": "code",
   "execution_count": 2,
   "metadata": {
    "collapsed": true
   },
   "outputs": [],
   "source": [
    "def load_dataset():\n",
    "    train_data = h5py.File('../input/train_happy.h5', \"r\")\n",
    "    X_train = np.array(train_data[\"train_set_x\"][:]) \n",
    "    y_train = np.array(train_data[\"train_set_y\"][:]) \n",
    "\n",
    "    test_data = h5py.File('../input/test_happy.h5', \"r\")\n",
    "    X_test = np.array(test_data[\"test_set_x\"][:])\n",
    "    y_test = np.array(test_data[\"test_set_y\"][:]) \n",
    "    \n",
    "    y_train = y_train.reshape((1, y_train.shape[0]))\n",
    "    y_test = y_test.reshape((1, y_test.shape[0]))\n",
    "    \n",
    "    return X_train, y_train, X_test, y_test"
   ]
  },
  {
   "cell_type": "code",
   "execution_count": 3,
   "metadata": {},
   "outputs": [
    {
     "name": "stdout",
     "output_type": "stream",
     "text": [
      "number of training examples = 600\n",
      "number of test examples = 150\n",
      "X_train shape: (600, 64, 64, 3)\n",
      "Y_train shape: (600, 1)\n",
      "X_test shape: (150, 64, 64, 3)\n",
      "Y_test shape: (150, 1)\n"
     ]
    }
   ],
   "source": [
    "X_train_orig, Y_train_orig, X_test_orig, Y_test_orig = load_dataset()\n",
    "\n",
    "# Normalize image vectors\n",
    "X_train = X_train_orig/255.\n",
    "X_test = X_test_orig/255.\n",
    "\n",
    "# Reshape\n",
    "Y_train = Y_train_orig.T\n",
    "Y_test = Y_test_orig.T\n",
    "\n",
    "print (\"number of training examples = \" + str(X_train.shape[0]))\n",
    "print (\"number of test examples = \" + str(X_test.shape[0]))\n",
    "print (\"X_train shape: \" + str(X_train.shape))\n",
    "print (\"Y_train shape: \" + str(Y_train.shape))\n",
    "print (\"X_test shape: \" + str(X_test.shape))\n",
    "print (\"Y_test shape: \" + str(Y_test.shape))"
   ]
  },
  {
   "cell_type": "code",
   "execution_count": 4,
   "metadata": {},
   "outputs": [
    {
     "name": "stdout",
     "output_type": "stream",
     "text": [
      "Image shape : (64, 64, 3)\n"
     ]
    },
    {
     "data": {
      "text/plain": [
       "<matplotlib.image.AxesImage at 0x7f229e726be0>"
      ]
     },
     "execution_count": 4,
     "metadata": {},
     "output_type": "execute_result"
    },
    {
     "data": {
      "image/png": "[encoded data removed]",
      "text/plain": [
       "<Figure size 432x288 with 1 Axes>"
      ]
     },
     "metadata": {},
     "output_type": "display_data"
    }
   ],
   "source": [
    "# Sample image from dataset\n",
    "print(\"Image shape :\",X_train_orig[10].shape)\n",
    "imshow(X_train_orig[10])"
   ]
  },
  {
   "cell_type": "markdown",
   "metadata": {},
   "source": [
    "## 2 - Building a model "
   ]
  },
  {
   "cell_type": "markdown",
   "metadata": {},
   "source": [
    "This architecture is given in Deep learning specialization|"
   ]
  },
  {
   "cell_type": "code",
   "execution_count": 5,
   "metadata": {
    "collapsed": true
   },
   "outputs": [],
   "source": [
    "# GRADED FUNCTION: HappyModel\n",
    "\n",
    "def HappyModel(input_shape):\n",
    "    \n",
    "    X_input = Input(input_shape)\n",
    "    \n",
    "    X = ZeroPadding2D((3,3))(X_input)\n",
    "    \n",
    "    # CONV -> BN -> RELU Block applied to X\n",
    "    X = Conv2D(32, (7,7), strides=(1,1), name='Conv2D')(X)\n",
    "    X = BatchNormalization(axis=3, name='bn0')(X)\n",
    "    X = Activation('relu')(X)\n",
    "    \n",
    "    X = MaxPooling2D((2,2), name='max_pool')(X)\n",
    "    \n",
    "    X = Flatten()(X)\n",
    "    X = Dense(1, activation='sigmoid', name='fc')(X)\n",
    "    \n",
    "    model = Model(inputs = X_input, outputs=X, name='HappyModel')\n",
    "        \n",
    "    return model"
   ]
  },
  {
   "cell_type": "code",
   "execution_count": 6,
   "metadata": {},
   "outputs": [
    {
     "data": {
      "image/svg+xml": [
       "<svg height=\"556pt\" viewBox=\"0.00 0.00 219.00 556.00\" width=\"219pt\" xmlns=\"http://www.w3.org/2000/svg\" xmlns:xlink=\"http://www.w3.org/1999/xlink\">\n",
       "<g class=\"graph\" id=\"graph0\" transform=\"scale(1 1) rotate(0) translate(4 552)\">\n",
       "<title>G</title>\n",
       "<polygon fill=\"white\" points=\"-4,4 -4,-552 215,-552 215,4 -4,4\" stroke=\"none\"/>\n",
       "<!-- 139651701963744 -->\n",
       "<g class=\"node\" id=\"node1\"><title>139651701963744</title>\n",
       "<polygon fill=\"none\" points=\"43,-511.5 43,-547.5 168,-547.5 168,-511.5 43,-511.5\" stroke=\"black\"/>\n",
       "<text font-family=\"Times,serif\" font-size=\"14.00\" text-anchor=\"middle\" x=\"105.5\" y=\"-525.8\">input_1: InputLayer</text>\n",
       "</g>\n",
       "<!-- 139651701355576 -->\n",
       "<g class=\"node\" id=\"node2\"><title>139651701355576</title>\n",
       "<polygon fill=\"none\" points=\"0,-438.5 0,-474.5 211,-474.5 211,-438.5 0,-438.5\" stroke=\"black\"/>\n",
       "<text font-family=\"Times,serif\" font-size=\"14.00\" text-anchor=\"middle\" x=\"105.5\" y=\"-452.8\">zero_padding2d_1: ZeroPadding2D</text>\n",
       "</g>\n",
       "<!-- 139651701963744&#45;&gt;139651701355576 -->\n",
       "<g class=\"edge\" id=\"edge1\"><title>139651701963744-&gt;139651701355576</title>\n",
       "<path d=\"M105.5,-511.313C105.5,-503.289 105.5,-493.547 105.5,-484.569\" fill=\"none\" stroke=\"black\"/>\n",
       "<polygon fill=\"black\" points=\"109,-484.529 105.5,-474.529 102,-484.529 109,-484.529\" stroke=\"black\"/>\n",
       "</g>\n",
       "<!-- 139651701357648 -->\n",
       "<g class=\"node\" id=\"node3\"><title>139651701357648</title>\n",
       "<polygon fill=\"none\" points=\"47.5,-365.5 47.5,-401.5 163.5,-401.5 163.5,-365.5 47.5,-365.5\" stroke=\"black\"/>\n",
       "<text font-family=\"Times,serif\" font-size=\"14.00\" text-anchor=\"middle\" x=\"105.5\" y=\"-379.8\">Conv2D: Conv2D</text>\n",
       "</g>\n",
       "<!-- 139651701355576&#45;&gt;139651701357648 -->\n",
       "<g class=\"edge\" id=\"edge2\"><title>139651701355576-&gt;139651701357648</title>\n",
       "<path d=\"M105.5,-438.313C105.5,-430.289 105.5,-420.547 105.5,-411.569\" fill=\"none\" stroke=\"black\"/>\n",
       "<polygon fill=\"black\" points=\"109,-411.529 105.5,-401.529 102,-411.529 109,-411.529\" stroke=\"black\"/>\n",
       "</g>\n",
       "<!-- 139651701354904 -->\n",
       "<g class=\"node\" id=\"node4\"><title>139651701354904</title>\n",
       "<polygon fill=\"none\" points=\"28,-292.5 28,-328.5 183,-328.5 183,-292.5 28,-292.5\" stroke=\"black\"/>\n",
       "<text font-family=\"Times,serif\" font-size=\"14.00\" text-anchor=\"middle\" x=\"105.5\" y=\"-306.8\">bn0: BatchNormalization</text>\n",
       "</g>\n",
       "<!-- 139651701357648&#45;&gt;139651701354904 -->\n",
       "<g class=\"edge\" id=\"edge3\"><title>139651701357648-&gt;139651701354904</title>\n",
       "<path d=\"M105.5,-365.313C105.5,-357.289 105.5,-347.547 105.5,-338.569\" fill=\"none\" stroke=\"black\"/>\n",
       "<polygon fill=\"black\" points=\"109,-338.529 105.5,-328.529 102,-338.529 109,-338.529\" stroke=\"black\"/>\n",
       "</g>\n",
       "<!-- 139651701984448 -->\n",
       "<g class=\"node\" id=\"node5\"><title>139651701984448</title>\n",
       "<polygon fill=\"none\" points=\"31.5,-219.5 31.5,-255.5 179.5,-255.5 179.5,-219.5 31.5,-219.5\" stroke=\"black\"/>\n",
       "<text font-family=\"Times,serif\" font-size=\"14.00\" text-anchor=\"middle\" x=\"105.5\" y=\"-233.8\">activation_1: Activation</text>\n",
       "</g>\n",
       "<!-- 139651701354904&#45;&gt;139651701984448 -->\n",
       "<g class=\"edge\" id=\"edge4\"><title>139651701354904-&gt;139651701984448</title>\n",
       "<path d=\"M105.5,-292.313C105.5,-284.289 105.5,-274.547 105.5,-265.569\" fill=\"none\" stroke=\"black\"/>\n",
       "<polygon fill=\"black\" points=\"109,-265.529 105.5,-255.529 102,-265.529 109,-265.529\" stroke=\"black\"/>\n",
       "</g>\n",
       "<!-- 139651702176400 -->\n",
       "<g class=\"node\" id=\"node6\"><title>139651702176400</title>\n",
       "<polygon fill=\"none\" points=\"24,-146.5 24,-182.5 187,-182.5 187,-146.5 24,-146.5\" stroke=\"black\"/>\n",
       "<text font-family=\"Times,serif\" font-size=\"14.00\" text-anchor=\"middle\" x=\"105.5\" y=\"-160.8\">max_pool: MaxPooling2D</text>\n",
       "</g>\n",
       "<!-- 139651701984448&#45;&gt;139651702176400 -->\n",
       "<g class=\"edge\" id=\"edge5\"><title>139651701984448-&gt;139651702176400</title>\n",
       "<path d=\"M105.5,-219.313C105.5,-211.289 105.5,-201.547 105.5,-192.569\" fill=\"none\" stroke=\"black\"/>\n",
       "<polygon fill=\"black\" points=\"109,-192.529 105.5,-182.529 102,-192.529 109,-192.529\" stroke=\"black\"/>\n",
       "</g>\n",
       "<!-- 139651700986824 -->\n",
       "<g class=\"node\" id=\"node7\"><title>139651700986824</title>\n",
       "<polygon fill=\"none\" points=\"50.5,-73.5 50.5,-109.5 160.5,-109.5 160.5,-73.5 50.5,-73.5\" stroke=\"black\"/>\n",
       "<text font-family=\"Times,serif\" font-size=\"14.00\" text-anchor=\"middle\" x=\"105.5\" y=\"-87.8\">flatten_1: Flatten</text>\n",
       "</g>\n",
       "<!-- 139651702176400&#45;&gt;139651700986824 -->\n",
       "<g class=\"edge\" id=\"edge6\"><title>139651702176400-&gt;139651700986824</title>\n",
       "<path d=\"M105.5,-146.313C105.5,-138.289 105.5,-128.547 105.5,-119.569\" fill=\"none\" stroke=\"black\"/>\n",
       "<polygon fill=\"black\" points=\"109,-119.529 105.5,-109.529 102,-119.529 109,-119.529\" stroke=\"black\"/>\n",
       "</g>\n",
       "<!-- 139651700989176 -->\n",
       "<g class=\"node\" id=\"node8\"><title>139651700989176</title>\n",
       "<polygon fill=\"none\" points=\"71.5,-0.5 71.5,-36.5 139.5,-36.5 139.5,-0.5 71.5,-0.5\" stroke=\"black\"/>\n",
       "<text font-family=\"Times,serif\" font-size=\"14.00\" text-anchor=\"middle\" x=\"105.5\" y=\"-14.8\">fc: Dense</text>\n",
       "</g>\n",
       "<!-- 139651700986824&#45;&gt;139651700989176 -->\n",
       "<g class=\"edge\" id=\"edge7\"><title>139651700986824-&gt;139651700989176</title>\n",
       "<path d=\"M105.5,-73.3129C105.5,-65.2895 105.5,-55.5475 105.5,-46.5691\" fill=\"none\" stroke=\"black\"/>\n",
       "<polygon fill=\"black\" points=\"109,-46.5288 105.5,-36.5288 102,-46.5289 109,-46.5288\" stroke=\"black\"/>\n",
       "</g>\n",
       "</g>\n",
       "</svg>"
      ],
      "text/plain": [
       "<IPython.core.display.SVG object>"
      ]
     },
     "execution_count": 6,
     "metadata": {},
     "output_type": "execute_result"
    }
   ],
   "source": [
    "# Model flow chart\n",
    "happyModel = HappyModel(X_train[0].shape)\n",
    "plot_model(happyModel, to_file='HappyModel.png')\n",
    "SVG(model_to_dot(happyModel).create(prog='dot', format='svg'))"
   ]
  },
  {
   "cell_type": "code",
   "execution_count": 6,
   "metadata": {},
   "outputs": [
    {
     "name": "stdout",
     "output_type": "stream",
     "text": [
      "WARNING:tensorflow:From /opt/conda/lib/python3.6/site-packages/tensorflow/python/framework/op_def_library.py:263: colocate_with (from tensorflow.python.framework.ops) is deprecated and will be removed in a future version.\n",
      "Instructions for updating:\n",
      "Colocations handled automatically by placer.\n"
     ]
    },
    {
     "data": {
      "image/svg+xml": [
       "<svg height=\"556pt\" viewBox=\"0.00 0.00 219.00 556.00\" width=\"219pt\" xmlns=\"http://www.w3.org/2000/svg\" xmlns:xlink=\"http://www.w3.org/1999/xlink\">\n",
       "<g class=\"graph\" id=\"graph0\" transform=\"scale(1 1) rotate(0) translate(4 552)\">\n",
       "<title>G</title>\n",
       "<polygon fill=\"white\" points=\"-4,4 -4,-552 215,-552 215,4 -4,4\" stroke=\"none\"/>\n",
       "<!-- 139786663213880 -->\n",
       "<g class=\"node\" id=\"node1\"><title>139786663213880</title>\n",
       "<polygon fill=\"none\" points=\"43,-511.5 43,-547.5 168,-547.5 168,-511.5 43,-511.5\" stroke=\"black\"/>\n",
       "<text font-family=\"Times,serif\" font-size=\"14.00\" text-anchor=\"middle\" x=\"105.5\" y=\"-525.8\">input_1: InputLayer</text>\n",
       "</g>\n",
       "<!-- 139786663588808 -->\n",
       "<g class=\"node\" id=\"node2\"><title>139786663588808</title>\n",
       "<polygon fill=\"none\" points=\"0,-438.5 0,-474.5 211,-474.5 211,-438.5 0,-438.5\" stroke=\"black\"/>\n",
       "<text font-family=\"Times,serif\" font-size=\"14.00\" text-anchor=\"middle\" x=\"105.5\" y=\"-452.8\">zero_padding2d_1: ZeroPadding2D</text>\n",
       "</g>\n",
       "<!-- 139786663213880&#45;&gt;139786663588808 -->\n",
       "<g class=\"edge\" id=\"edge1\"><title>139786663213880-&gt;139786663588808</title>\n",
       "<path d=\"M105.5,-511.313C105.5,-503.289 105.5,-493.547 105.5,-484.569\" fill=\"none\" stroke=\"black\"/>\n",
       "<polygon fill=\"black\" points=\"109,-484.529 105.5,-474.529 102,-484.529 109,-484.529\" stroke=\"black\"/>\n",
       "</g>\n",
       "<!-- 139786663214552 -->\n",
       "<g class=\"node\" id=\"node3\"><title>139786663214552</title>\n",
       "<polygon fill=\"none\" points=\"47.5,-365.5 47.5,-401.5 163.5,-401.5 163.5,-365.5 47.5,-365.5\" stroke=\"black\"/>\n",
       "<text font-family=\"Times,serif\" font-size=\"14.00\" text-anchor=\"middle\" x=\"105.5\" y=\"-379.8\">Conv2D: Conv2D</text>\n",
       "</g>\n",
       "<!-- 139786663588808&#45;&gt;139786663214552 -->\n",
       "<g class=\"edge\" id=\"edge2\"><title>139786663588808-&gt;139786663214552</title>\n",
       "<path d=\"M105.5,-438.313C105.5,-430.289 105.5,-420.547 105.5,-411.569\" fill=\"none\" stroke=\"black\"/>\n",
       "<polygon fill=\"black\" points=\"109,-411.529 105.5,-401.529 102,-411.529 109,-411.529\" stroke=\"black\"/>\n",
       "</g>\n",
       "<!-- 139786663646880 -->\n",
       "<g class=\"node\" id=\"node4\"><title>139786663646880</title>\n",
       "<polygon fill=\"none\" points=\"28,-292.5 28,-328.5 183,-328.5 183,-292.5 28,-292.5\" stroke=\"black\"/>\n",
       "<text font-family=\"Times,serif\" font-size=\"14.00\" text-anchor=\"middle\" x=\"105.5\" y=\"-306.8\">bn0: BatchNormalization</text>\n",
       "</g>\n",
       "<!-- 139786663214552&#45;&gt;139786663646880 -->\n",
       "<g class=\"edge\" id=\"edge3\"><title>139786663214552-&gt;139786663646880</title>\n",
       "<path d=\"M105.5,-365.313C105.5,-357.289 105.5,-347.547 105.5,-338.569\" fill=\"none\" stroke=\"black\"/>\n",
       "<polygon fill=\"black\" points=\"109,-338.529 105.5,-328.529 102,-338.529 109,-338.529\" stroke=\"black\"/>\n",
       "</g>\n",
       "<!-- 139786663646656 -->\n",
       "<g class=\"node\" id=\"node5\"><title>139786663646656</title>\n",
       "<polygon fill=\"none\" points=\"31.5,-219.5 31.5,-255.5 179.5,-255.5 179.5,-219.5 31.5,-219.5\" stroke=\"black\"/>\n",
       "<text font-family=\"Times,serif\" font-size=\"14.00\" text-anchor=\"middle\" x=\"105.5\" y=\"-233.8\">activation_1: Activation</text>\n",
       "</g>\n",
       "<!-- 139786663646880&#45;&gt;139786663646656 -->\n",
       "<g class=\"edge\" id=\"edge4\"><title>139786663646880-&gt;139786663646656</title>\n",
       "<path d=\"M105.5,-292.313C105.5,-284.289 105.5,-274.547 105.5,-265.569\" fill=\"none\" stroke=\"black\"/>\n",
       "<polygon fill=\"black\" points=\"109,-265.529 105.5,-255.529 102,-265.529 109,-265.529\" stroke=\"black\"/>\n",
       "</g>\n",
       "<!-- 139786662794576 -->\n",
       "<g class=\"node\" id=\"node6\"><title>139786662794576</title>\n",
       "<polygon fill=\"none\" points=\"24,-146.5 24,-182.5 187,-182.5 187,-146.5 24,-146.5\" stroke=\"black\"/>\n",
       "<text font-family=\"Times,serif\" font-size=\"14.00\" text-anchor=\"middle\" x=\"105.5\" y=\"-160.8\">max_pool: MaxPooling2D</text>\n",
       "</g>\n",
       "<!-- 139786663646656&#45;&gt;139786662794576 -->\n",
       "<g class=\"edge\" id=\"edge5\"><title>139786663646656-&gt;139786662794576</title>\n",
       "<path d=\"M105.5,-219.313C105.5,-211.289 105.5,-201.547 105.5,-192.569\" fill=\"none\" stroke=\"black\"/>\n",
       "<polygon fill=\"black\" points=\"109,-192.529 105.5,-182.529 102,-192.529 109,-192.529\" stroke=\"black\"/>\n",
       "</g>\n",
       "<!-- 139786663089768 -->\n",
       "<g class=\"node\" id=\"node7\"><title>139786663089768</title>\n",
       "<polygon fill=\"none\" points=\"50.5,-73.5 50.5,-109.5 160.5,-109.5 160.5,-73.5 50.5,-73.5\" stroke=\"black\"/>\n",
       "<text font-family=\"Times,serif\" font-size=\"14.00\" text-anchor=\"middle\" x=\"105.5\" y=\"-87.8\">flatten_1: Flatten</text>\n",
       "</g>\n",
       "<!-- 139786662794576&#45;&gt;139786663089768 -->\n",
       "<g class=\"edge\" id=\"edge6\"><title>139786662794576-&gt;139786663089768</title>\n",
       "<path d=\"M105.5,-146.313C105.5,-138.289 105.5,-128.547 105.5,-119.569\" fill=\"none\" stroke=\"black\"/>\n",
       "<polygon fill=\"black\" points=\"109,-119.529 105.5,-109.529 102,-119.529 109,-119.529\" stroke=\"black\"/>\n",
       "</g>\n",
       "<!-- 139786662141792 -->\n",
       "<g class=\"node\" id=\"node8\"><title>139786662141792</title>\n",
       "<polygon fill=\"none\" points=\"71.5,-0.5 71.5,-36.5 139.5,-36.5 139.5,-0.5 71.5,-0.5\" stroke=\"black\"/>\n",
       "<text font-family=\"Times,serif\" font-size=\"14.00\" text-anchor=\"middle\" x=\"105.5\" y=\"-14.8\">fc: Dense</text>\n",
       "</g>\n",
       "<!-- 139786663089768&#45;&gt;139786662141792 -->\n",
       "<g class=\"edge\" id=\"edge7\"><title>139786663089768-&gt;139786662141792</title>\n",
       "<path d=\"M105.5,-73.3129C105.5,-65.2895 105.5,-55.5475 105.5,-46.5691\" fill=\"none\" stroke=\"black\"/>\n",
       "<polygon fill=\"black\" points=\"109,-46.5288 105.5,-36.5288 102,-46.5289 109,-46.5288\" stroke=\"black\"/>\n",
       "</g>\n",
       "</g>\n",
       "</svg>"
      ],
      "text/plain": [
       "<IPython.core.display.SVG object>"
      ]
     },
     "execution_count": 6,
     "metadata": {},
     "output_type": "execute_result"
    }
   ],
   "source": [
    "# Model flow chart\n",
    "happyModel = HappyModel(X_train[0].shape)\n",
    "plot_model(happyModel, to_file='HappyModel.png')\n",
    "SVG(model_to_dot(happyModel).create(prog='dot', format='svg'))"
   ]
  },
  {
   "cell_type": "code",
   "execution_count": 7,
   "metadata": {},
   "outputs": [
    {
     "name": "stdout",
     "output_type": "stream",
     "text": [
      "_________________________________________________________________\n",
      "Layer (type)                 Output Shape              Param #   \n",
      "=================================================================\n",
      "input_1 (InputLayer)         (None, 64, 64, 3)         0         \n",
      "_________________________________________________________________\n",
      "zero_padding2d_1 (ZeroPaddin (None, 70, 70, 3)         0         \n",
      "_________________________________________________________________\n",
      "Conv2D (Conv2D)              (None, 64, 64, 32)        4736      \n",
      "_________________________________________________________________\n",
      "bn0 (BatchNormalization)     (None, 64, 64, 32)        128       \n",
      "_________________________________________________________________\n",
      "activation_1 (Activation)    (None, 64, 64, 32)        0         \n",
      "_________________________________________________________________\n",
      "max_pool (MaxPooling2D)      (None, 32, 32, 32)        0         \n",
      "_________________________________________________________________\n",
      "flatten_1 (Flatten)          (None, 32768)             0         \n",
      "_________________________________________________________________\n",
      "fc (Dense)                   (None, 1)                 32769     \n",
      "=================================================================\n",
      "Total params: 37,633\n",
      "Trainable params: 37,569\n",
      "Non-trainable params: 64\n",
      "_________________________________________________________________\n"
     ]
    }
   ],
   "source": [
    "happyModel.summary()"
   ]
  },
  {
   "cell_type": "markdown",
   "metadata": {},
   "source": [
    "## 3 - Predicting using various Optimizers"
   ]
  },
  {
   "cell_type": "markdown",
   "metadata": {},
   "source": []
  },
  {
   "cell_type": "markdown",
   "metadata": {},
   "source": [
    "### 3.1 - SGD (Stochastic gradient descent optimizer)"
   ]
  },
  {
   "cell_type": "markdown",
   "metadata": {},
   "source": [
    "About SGD  <a href=\"https://towardsdatascience.com/difference-between-batch-gradient-descent-and-stochastic-gradient-descent-1187f1291aa1\">here</a>"
   ]
  },
  {
   "cell_type": "code",
   "execution_count": 8,
   "metadata": {
    "collapsed": true
   },
   "outputs": [],
   "source": [
    "happyModel_sgd = HappyModel(X_train.shape[1:])\n",
    "happyModel_sgd.compile(optimizer='sgd', loss='binary_crossentropy', metrics=[\"accuracy\"])"
   ]
  },
  {
   "cell_type": "code",
   "execution_count": 9,
   "metadata": {},
   "outputs": [
    {
     "name": "stdout",
     "output_type": "stream",
     "text": [
      "WARNING:tensorflow:From /opt/conda/lib/python3.6/site-packages/tensorflow/python/ops/math_ops.py:3066: to_int32 (from tensorflow.python.ops.math_ops) is deprecated and will be removed in a future version.\n",
      "Instructions for updating:\n",
      "Use tf.cast instead.\n",
      "Epoch 1/5\n",
      "600/600 [==============================] - 7s 11ms/step - loss: 7.6104 - acc: 0.4867\n",
      "Epoch 2/5\n",
      "600/600 [==============================] - 7s 11ms/step - loss: 8.0590 - acc: 0.5000\n",
      "Epoch 3/5\n",
      "600/600 [==============================] - 7s 11ms/step - loss: 8.0590 - acc: 0.5000\n",
      "Epoch 4/5\n",
      "600/600 [==============================] - 7s 11ms/step - loss: 8.0590 - acc: 0.5000\n",
      "Epoch 5/5\n",
      "600/600 [==============================] - 7s 11ms/step - loss: 8.0590 - acc: 0.5000\n"
     ]
    }
   ],
   "source": [
    "history_sgd = happyModel_sgd.fit(X_train,Y_train, epochs=5,batch_size=30)"
   ]
  },
  {
   "cell_type": "code",
   "execution_count": 10,
   "metadata": {},
   "outputs": [
    {
     "data": {
      "text/plain": [
       "<matplotlib.legend.Legend at 0x7f2294273e80>"
      ]
     },
     "execution_count": 10,
     "metadata": {},
     "output_type": "execute_result"
    },
    {
     "data": {
      "image/png": "[encoded data removed]",
      "text/plain": [
       "<Figure size 432x288 with 1 Axes>"
      ]
     },
     "metadata": {},
     "output_type": "display_data"
    },
    {
     "data": {
      "image/png": "[encoded data removed]",
      "text/plain": [
       "<Figure size 432x288 with 1 Axes>"
      ]
     },
     "metadata": {},
     "output_type": "display_data"
    }
   ],
   "source": [
    "train_accuracy = history_sgd.history['acc']\n",
    "train_loss = history_sgd.history['loss']\n",
    "\n",
    "iterations = range(len(train_accuracy))\n",
    "plt.plot(iterations, train_accuracy, label='Training accuracy')\n",
    "plt.title('epochs vs Training accuracy')\n",
    "plt.legend()\n",
    "\n",
    "plt.figure()\n",
    "plt.plot(iterations, train_loss, label='Training Loss')\n",
    "plt.title('epochs vs Training Loss')\n",
    "plt.legend()"
   ]
  },
  {
   "cell_type": "code",
   "execution_count": 11,
   "metadata": {},
   "outputs": [
    {
     "name": "stdout",
     "output_type": "stream",
     "text": [
      "150/150 [==============================] - 1s 4ms/step\n",
      "\n",
      "Loss = 9.026133677164713\n",
      "Test Accuracy = 0.4400000015894572\n"
     ]
    }
   ],
   "source": [
    "preds = happyModel_sgd.evaluate(x=X_test, y=Y_test)\n",
    "\n",
    "print (\"\\nLoss = \" + str(preds[0]))\n",
    "print (\"Test Accuracy = \" + str(preds[1]))"
   ]
  },
  {
   "cell_type": "markdown",
   "metadata": {},
   "source": [
    "### 3.2 - RMSprop Optimizer"
   ]
  },
  {
   "cell_type": "markdown",
   "metadata": {},
   "source": [
    "About RMSprop Optimizer  <a href=\"https://towardsdatascience.com/a-look-at-gradient-descent-and-rmsprop-optimizers-f77d483ef08b\">here</a>"
   ]
  },
  {
   "cell_type": "code",
   "execution_count": 12,
   "metadata": {
    "collapsed": true
   },
   "outputs": [],
   "source": [
    "happyModel_rms = HappyModel(X_train.shape[1:])\n",
    "happyModel_rms.compile(optimizer='RMSprop', loss='binary_crossentropy', metrics=[\"accuracy\"])"
   ]
  },
  {
   "cell_type": "code",
   "execution_count": 13,
   "metadata": {},
   "outputs": [
    {
     "name": "stdout",
     "output_type": "stream",
     "text": [
      "Epoch 1/5\n",
      "600/600 [==============================] - 7s 12ms/step - loss: 7.6765 - acc: 0.4833\n",
      "Epoch 2/5\n",
      "600/600 [==============================] - 7s 11ms/step - loss: 7.9712 - acc: 0.5000\n",
      "Epoch 3/5\n",
      "600/600 [==============================] - 7s 11ms/step - loss: 7.9712 - acc: 0.5000\n",
      "Epoch 4/5\n",
      "600/600 [==============================] - 6s 11ms/step - loss: 7.9712 - acc: 0.5000\n",
      "Epoch 5/5\n",
      "600/600 [==============================] - 7s 11ms/step - loss: 7.9712 - acc: 0.5000\n"
     ]
    }
   ],
   "source": [
    "history_rms = happyModel_rms.fit(X_train,Y_train, epochs=5,batch_size=30)"
   ]
  },
  {
   "cell_type": "code",
   "execution_count": 14,
   "metadata": {},
   "outputs": [
    {
     "data": {
      "text/plain": [
       "<matplotlib.legend.Legend at 0x7f228c416da0>"
      ]
     },
     "execution_count": 14,
     "metadata": {},
     "output_type": "execute_result"
    },
    {
     "data": {
      "image/png": "[encoded data removed]",
      "text/plain": [
       "<Figure size 432x288 with 1 Axes>"
      ]
     },
     "metadata": {},
     "output_type": "display_data"
    },
    {
     "data": {
      "image/png": "[encoded data removed]",
      "text/plain": [
       "<Figure size 432x288 with 1 Axes>"
      ]
     },
     "metadata": {},
     "output_type": "display_data"
    }
   ],
   "source": [
    "train_accuracy = history_rms.history['acc']\n",
    "train_loss = history_rms.history['loss']\n",
    "\n",
    "iterations = range(len(train_accuracy))\n",
    "plt.plot(iterations, train_accuracy, label='Training accuracy')\n",
    "plt.title('epochs vs Training accuracy')\n",
    "plt.legend()\n",
    "\n",
    "plt.figure()\n",
    "plt.plot(iterations, train_loss, label='Training Loss')\n",
    "plt.title('epochs vs Training Loss')\n",
    "plt.legend()"
   ]
  },
  {
   "cell_type": "code",
   "execution_count": 15,
   "metadata": {},
   "outputs": [
    {
     "name": "stdout",
     "output_type": "stream",
     "text": [
      "150/150 [==============================] - 1s 5ms/step\n",
      "\n",
      "Loss = 7.014649543762207\n",
      "Test Accuracy = 0.5599999984105428\n"
     ]
    }
   ],
   "source": [
    "preds = happyModel_rms.evaluate(x=X_test, y=Y_test)\n",
    "\n",
    "print (\"\\nLoss = \" + str(preds[0]))\n",
    "print (\"Test Accuracy = \" + str(preds[1]))"
   ]
  },
  {
   "cell_type": "markdown",
   "metadata": {},
   "source": [
    "### 3.3 - Adam"
   ]
  },
  {
   "cell_type": "markdown",
   "metadata": {},
   "source": [
    "Adam optimizer is a combination of RMSprop and Momentum optimizers. More about Adam Optimizer  <a href=\"https://machinelearningmastery.com/adam-optimization-algorithm-for-deep-learning/\">here</a>"
   ]
  },
  {
   "cell_type": "code",
   "execution_count": 16,
   "metadata": {
    "collapsed": true
   },
   "outputs": [],
   "source": [
    "happyModel_adam = HappyModel(X_train[0].shape)\n",
    "happyModel_adam.compile(optimizer='Adam', loss='binary_crossentropy', metrics=[\"accuracy\"])"
   ]
  },
  {
   "cell_type": "code",
   "execution_count": 17,
   "metadata": {},
   "outputs": [
    {
     "name": "stdout",
     "output_type": "stream",
     "text": [
      "Epoch 1/5\n",
      "600/600 [==============================] - 7s 12ms/step - loss: 1.7721 - acc: 0.6000\n",
      "Epoch 2/5\n",
      "600/600 [==============================] - 7s 11ms/step - loss: 0.4078 - acc: 0.8383\n",
      "Epoch 3/5\n",
      "600/600 [==============================] - 6s 11ms/step - loss: 0.2105 - acc: 0.9267\n",
      "Epoch 4/5\n",
      "600/600 [==============================] - 7s 11ms/step - loss: 0.1199 - acc: 0.9517\n",
      "Epoch 5/5\n",
      "600/600 [==============================] - 7s 11ms/step - loss: 0.0947 - acc: 0.9717\n"
     ]
    }
   ],
   "source": [
    "history_adam = happyModel_adam.fit(X_train,Y_train, epochs=5,batch_size=30)"
   ]
  },
  {
   "cell_type": "code",
   "execution_count": 18,
   "metadata": {},
   "outputs": [
    {
     "data": {
      "text/plain": [
       "<matplotlib.legend.Legend at 0x7f22845d22b0>"
      ]
     },
     "execution_count": 18,
     "metadata": {},
     "output_type": "execute_result"
    },
    {
     "data": {
      "image/png": "[encoded data removed]",
      "text/plain": [
       "<Figure size 432x288 with 1 Axes>"
      ]
     },
     "metadata": {},
     "output_type": "display_data"
    },
    {
     "data": {
      "image/png": "[encoded data removed]",
      "text/plain": [
       "<Figure size 432x288 with 1 Axes>"
      ]
     },
     "metadata": {},
     "output_type": "display_data"
    }
   ],
   "source": [
    "train_accuracy = history_adam.history['acc']\n",
    "train_loss = history_adam.history['loss']\n",
    "\n",
    "count = range(len(train_accuracy))\n",
    "plt.plot(count, train_accuracy, label='Training accuracy')\n",
    "plt.title('epochs vs Training accuracy')\n",
    "plt.legend()\n",
    "\n",
    "plt.figure()\n",
    "plt.plot(count, train_loss, label='Training Loss')\n",
    "plt.title('epochs vs Training Loss')\n",
    "plt.legend()"
   ]
  },
  {
   "cell_type": "code",
   "execution_count": 19,
   "metadata": {
    "scrolled": true
   },
   "outputs": [
    {
     "name": "stdout",
     "output_type": "stream",
     "text": [
      "150/150 [==============================] - 1s 5ms/step\n",
      "\n",
      "Loss = 0.15846624533335368\n",
      "Test Accuracy = 0.940000003973643\n"
     ]
    }
   ],
   "source": [
    "preds = happyModel_adam.evaluate(x=X_test, y=Y_test)\n",
    "\n",
    "print()\n",
    "print (\"Loss = \" + str(preds[0]))\n",
    "print (\"Test Accuracy = \" + str(preds[1]))"
   ]
  },
  {
   "cell_type": "markdown",
   "metadata": {},
   "source": [
    "### Conclusion\n",
    "<ul> <li> Adam Optimizer got high accuracy i.e., 94%</li> </ul>"
   ]
  },
  {
   "cell_type": "markdown",
   "metadata": {},
   "source": [
    "# 4 - Predicting with different epochs trained models"
   ]
  },
  {
   "cell_type": "markdown",
   "metadata": {},
   "source": [
    "### 4.1 - Epoch : 20"
   ]
  },
  {
   "cell_type": "code",
   "execution_count": 20,
   "metadata": {
    "collapsed": true
   },
   "outputs": [],
   "source": [
    "happyModelE = HappyModel(X_train.shape[1:])\n",
    "happyModelE.compile(optimizer='Adam', loss='binary_crossentropy', metrics=[\"accuracy\"])"
   ]
  },
  {
   "cell_type": "code",
   "execution_count": 21,
   "metadata": {},
   "outputs": [
    {
     "name": "stdout",
     "output_type": "stream",
     "text": [
      "Epoch 1/20\n",
      "600/600 [==============================] - 7s 12ms/step - loss: 1.8495 - acc: 0.5667\n",
      "Epoch 2/20\n",
      "600/600 [==============================] - 7s 11ms/step - loss: 0.4074 - acc: 0.8417\n",
      "Epoch 3/20\n",
      "600/600 [==============================] - 7s 11ms/step - loss: 0.2791 - acc: 0.8900\n",
      "Epoch 4/20\n",
      "600/600 [==============================] - 7s 11ms/step - loss: 0.1443 - acc: 0.9517\n",
      "Epoch 5/20\n",
      "600/600 [==============================] - 7s 11ms/step - loss: 0.0969 - acc: 0.9750\n",
      "Epoch 6/20\n",
      "600/600 [==============================] - 7s 12ms/step - loss: 0.0806 - acc: 0.9733\n",
      "Epoch 7/20\n",
      "600/600 [==============================] - 7s 12ms/step - loss: 0.1001 - acc: 0.9617\n",
      "Epoch 8/20\n",
      "600/600 [==============================] - 7s 11ms/step - loss: 0.0786 - acc: 0.9783\n",
      "Epoch 9/20\n",
      "600/600 [==============================] - 7s 11ms/step - loss: 0.0627 - acc: 0.9800\n",
      "Epoch 10/20\n",
      "600/600 [==============================] - 7s 11ms/step - loss: 0.0439 - acc: 0.9900\n",
      "Epoch 11/20\n",
      "600/600 [==============================] - 7s 11ms/step - loss: 0.0541 - acc: 0.9817\n",
      "Epoch 12/20\n",
      "600/600 [==============================] - 7s 11ms/step - loss: 0.0371 - acc: 0.9917\n",
      "Epoch 13/20\n",
      "600/600 [==============================] - 7s 11ms/step - loss: 0.0622 - acc: 0.9750\n",
      "Epoch 14/20\n",
      "600/600 [==============================] - 7s 11ms/step - loss: 0.0383 - acc: 0.9883\n",
      "Epoch 15/20\n",
      "600/600 [==============================] - 7s 11ms/step - loss: 0.0317 - acc: 0.9917\n",
      "Epoch 16/20\n",
      "600/600 [==============================] - 7s 11ms/step - loss: 0.0327 - acc: 0.9917\n",
      "Epoch 17/20\n",
      "600/600 [==============================] - 7s 11ms/step - loss: 0.0243 - acc: 0.9933\n",
      "Epoch 18/20\n",
      "600/600 [==============================] - 7s 11ms/step - loss: 0.0264 - acc: 0.9933\n",
      "Epoch 19/20\n",
      "600/600 [==============================] - 7s 11ms/step - loss: 0.0351 - acc: 0.9933\n",
      "Epoch 20/20\n",
      "600/600 [==============================] - 7s 11ms/step - loss: 0.0345 - acc: 0.9900\n"
     ]
    }
   ],
   "source": [
    "THistoryE = happyModelE.fit(X_train,Y_train, epochs=20,batch_size=30)"
   ]
  },
  {
   "cell_type": "code",
   "execution_count": 22,
   "metadata": {},
   "outputs": [
    {
     "data": {
      "text/plain": [
       "<matplotlib.legend.Legend at 0x7f2247f21dd8>"
      ]
     },
     "execution_count": 22,
     "metadata": {},
     "output_type": "execute_result"
    },
    {
     "data": {
      "image/png": "[encoded data removed]",
      "text/plain": [
       "<Figure size 432x288 with 1 Axes>"
      ]
     },
     "metadata": {},
     "output_type": "display_data"
    },
    {
     "data": {
      "image/png": "[encoded data removed]",
      "text/plain": [
       "<Figure size 432x288 with 1 Axes>"
      ]
     },
     "metadata": {},
     "output_type": "display_data"
    }
   ],
   "source": [
    "train_accuracy = THistoryE.history['acc']\n",
    "train_loss = THistoryE.history['loss']\n",
    "\n",
    "iterations = range(len(train_accuracy))\n",
    "plt.plot(iterations, train_accuracy, label='Training accuracy')\n",
    "plt.title('epochs vs Training accuracy')\n",
    "plt.legend()\n",
    "\n",
    "plt.figure()\n",
    "plt.plot(iterations, train_loss, label='Training Loss')\n",
    "plt.title('epochs vs Training Loss')\n",
    "plt.legend()"
   ]
  },
  {
   "cell_type": "code",
   "execution_count": 23,
   "metadata": {},
   "outputs": [
    {
     "name": "stdout",
     "output_type": "stream",
     "text": [
      "150/150 [==============================] - 1s 5ms/step\n",
      "\n",
      "Loss = 0.12877306958039603\n",
      "Test Accuracy = 0.940000003973643\n"
     ]
    }
   ],
   "source": [
    "preds = happyModelE.evaluate(x=X_test, y=Y_test)\n",
    "\n",
    "print()\n",
    "print (\"Loss = \" + str(preds[0]))\n",
    "print (\"Test Accuracy = \" + str(preds[1]))"
   ]
  },
  {
   "cell_type": "code",
   "execution_count": 24,
   "metadata": {
    "collapsed": true
   },
   "outputs": [],
   "source": [
    "y_pred = happyModelE.predict(X_test)"
   ]
  },
  {
   "cell_type": "code",
   "execution_count": 25,
   "metadata": {
    "collapsed": true
   },
   "outputs": [],
   "source": [
    "y_pred[y_pred < 0.5] = 0\n",
    "y_pred[y_pred >= 0.5] = 1"
   ]
  },
  {
   "cell_type": "code",
   "execution_count": 26,
   "metadata": {},
   "outputs": [
    {
     "name": "stdout",
     "output_type": "stream",
     "text": [
      "[[57  9]\n",
      " [ 0 84]]\n"
     ]
    }
   ],
   "source": [
    "from sklearn.metrics import confusion_matrix\n",
    "cm = confusion_matrix(Y_test, y_pred)\n",
    "print(cm)"
   ]
  },
  {
   "cell_type": "markdown",
   "metadata": {},
   "source": [
    "### Observation\n",
    "Got 94% accuracy!"
   ]
  },
  {
   "cell_type": "markdown",
   "metadata": {},
   "source": [
    "### 4.2 - Epoch : 30"
   ]
  },
  {
   "cell_type": "code",
   "execution_count": 27,
   "metadata": {
    "collapsed": true
   },
   "outputs": [],
   "source": [
    "happyModel3 = HappyModel(X_train.shape[1:])\n",
    "happyModel3.compile(optimizer='Adam', loss='binary_crossentropy', metrics=[\"accuracy\"])"
   ]
  },
  {
   "cell_type": "code",
   "execution_count": 28,
   "metadata": {},
   "outputs": [
    {
     "name": "stdout",
     "output_type": "stream",
     "text": [
      "Epoch 1/30\n",
      "600/600 [==============================] - 8s 13ms/step - loss: 1.4135 - acc: 0.6550\n",
      "Epoch 2/30\n",
      "600/600 [==============================] - 7s 12ms/step - loss: 0.3546 - acc: 0.8600\n",
      "Epoch 3/30\n",
      "600/600 [==============================] - 7s 11ms/step - loss: 0.1591 - acc: 0.9400\n",
      "Epoch 4/30\n",
      "600/600 [==============================] - 7s 11ms/step - loss: 0.1181 - acc: 0.9567\n",
      "Epoch 5/30\n",
      "600/600 [==============================] - 7s 11ms/step - loss: 0.1006 - acc: 0.9650\n",
      "Epoch 6/30\n",
      "600/600 [==============================] - 7s 11ms/step - loss: 0.0899 - acc: 0.9650\n",
      "Epoch 7/30\n",
      "600/600 [==============================] - 7s 11ms/step - loss: 0.0906 - acc: 0.9733\n",
      "Epoch 8/30\n",
      "600/600 [==============================] - 7s 11ms/step - loss: 0.0674 - acc: 0.9833\n",
      "Epoch 9/30\n",
      "600/600 [==============================] - 7s 11ms/step - loss: 0.0481 - acc: 0.9883\n",
      "Epoch 10/30\n",
      "600/600 [==============================] - 7s 11ms/step - loss: 0.0548 - acc: 0.9867\n",
      "Epoch 11/30\n",
      "600/600 [==============================] - 7s 11ms/step - loss: 0.0565 - acc: 0.9800\n",
      "Epoch 12/30\n",
      "600/600 [==============================] - 7s 11ms/step - loss: 0.1014 - acc: 0.9583\n",
      "Epoch 13/30\n",
      "600/600 [==============================] - 7s 11ms/step - loss: 0.0894 - acc: 0.9700\n",
      "Epoch 14/30\n",
      "600/600 [==============================] - 7s 11ms/step - loss: 0.0870 - acc: 0.9700\n",
      "Epoch 15/30\n",
      "600/600 [==============================] - 7s 11ms/step - loss: 0.0770 - acc: 0.9800\n",
      "Epoch 16/30\n",
      "600/600 [==============================] - 7s 11ms/step - loss: 0.0689 - acc: 0.9767\n",
      "Epoch 17/30\n",
      "600/600 [==============================] - 7s 11ms/step - loss: 0.1158 - acc: 0.9500\n",
      "Epoch 18/30\n",
      "600/600 [==============================] - 7s 11ms/step - loss: 0.0494 - acc: 0.9800\n",
      "Epoch 19/30\n",
      "600/600 [==============================] - 7s 11ms/step - loss: 0.0595 - acc: 0.9800\n",
      "Epoch 20/30\n",
      "600/600 [==============================] - 7s 11ms/step - loss: 0.0460 - acc: 0.9833\n",
      "Epoch 21/30\n",
      "600/600 [==============================] - 7s 11ms/step - loss: 0.0635 - acc: 0.9733\n",
      "Epoch 22/30\n",
      "600/600 [==============================] - 7s 11ms/step - loss: 0.0750 - acc: 0.9683\n",
      "Epoch 23/30\n",
      "600/600 [==============================] - 7s 11ms/step - loss: 0.0453 - acc: 0.9800\n",
      "Epoch 24/30\n",
      "600/600 [==============================] - 7s 11ms/step - loss: 0.0246 - acc: 0.9933\n",
      "Epoch 25/30\n",
      "600/600 [==============================] - 7s 11ms/step - loss: 0.0296 - acc: 0.9917\n",
      "Epoch 26/30\n",
      "600/600 [==============================] - 7s 11ms/step - loss: 0.0306 - acc: 0.9917\n",
      "Epoch 27/30\n",
      "600/600 [==============================] - 7s 11ms/step - loss: 0.0371 - acc: 0.9900\n",
      "Epoch 28/30\n",
      "600/600 [==============================] - 7s 11ms/step - loss: 0.0169 - acc: 0.9950\n",
      "Epoch 29/30\n",
      "600/600 [==============================] - 7s 11ms/step - loss: 0.0177 - acc: 0.9933\n",
      "Epoch 30/30\n",
      "600/600 [==============================] - 7s 11ms/step - loss: 0.0191 - acc: 0.9950\n"
     ]
    }
   ],
   "source": [
    "# THistory (Train History)\n",
    "THistory3 = happyModel3.fit(X_train,Y_train, epochs=30,batch_size=30)"
   ]
  },
  {
   "cell_type": "code",
   "execution_count": 29,
   "metadata": {},
   "outputs": [
    {
     "data": {
      "text/plain": [
       "<matplotlib.legend.Legend at 0x7f224253ae80>"
      ]
     },
     "execution_count": 29,
     "metadata": {},
     "output_type": "execute_result"
    },
    {
     "data": {
      "image/png": "[encoded data removed]",
      "text/plain": [
       "<Figure size 432x288 with 1 Axes>"
      ]
     },
     "metadata": {},
     "output_type": "display_data"
    },
    {
     "data": {
      "image/png": "[encoded data removed]",
      "text/plain": [
       "<Figure size 432x288 with 1 Axes>"
      ]
     },
     "metadata": {},
     "output_type": "display_data"
    }
   ],
   "source": [
    "train_accuracy = THistory3.history['acc']\n",
    "train_loss = THistory3.history['loss']\n",
    "\n",
    "iterations = range(len(train_accuracy))\n",
    "plt.plot(iterations, train_accuracy, label='Training accuracy')\n",
    "plt.title('epochs vs Training accuracy')\n",
    "plt.legend()\n",
    "\n",
    "plt.figure()\n",
    "plt.plot(iterations, train_loss, label='Training Loss')\n",
    "plt.title('epochs vs Training Loss')\n",
    "plt.legend()"
   ]
  },
  {
   "cell_type": "code",
   "execution_count": 30,
   "metadata": {},
   "outputs": [
    {
     "name": "stdout",
     "output_type": "stream",
     "text": [
      "150/150 [==============================] - 1s 5ms/step\n",
      "\n",
      "Loss = 0.08391090393066407\n",
      "Test Accuracy = 0.9799999976158142\n"
     ]
    }
   ],
   "source": [
    "preds = happyModel3.evaluate(x=X_test, y=Y_test)\n",
    "\n",
    "print()\n",
    "print (\"Loss = \" + str(preds[0]))\n",
    "print (\"Test Accuracy = \" + str(preds[1]))"
   ]
  },
  {
   "cell_type": "markdown",
   "metadata": {},
   "source": [
    "### Observation\n",
    "<ul> <li>Model accuracy increased updo 97.9%</li> </ul>"
   ]
  },
  {
   "cell_type": "markdown",
   "metadata": {},
   "source": [
    "### 4.3 - Epoch 40, Batch size : 16 (Coursera suggested model parameters)"
   ]
  },
  {
   "cell_type": "code",
   "execution_count": 31,
   "metadata": {
    "collapsed": true
   },
   "outputs": [],
   "source": [
    "happyModel2 = HappyModel(X_train[0].shape)\n",
    "happyModel2.compile(optimizer='Adam', loss='binary_crossentropy', metrics=[\"accuracy\"])"
   ]
  },
  {
   "cell_type": "code",
   "execution_count": 32,
   "metadata": {},
   "outputs": [
    {
     "name": "stdout",
     "output_type": "stream",
     "text": [
      "Epoch 1/40\n",
      "600/600 [==============================] - 7s 12ms/step - loss: 1.7778 - acc: 0.6700\n",
      "Epoch 2/40\n",
      "600/600 [==============================] - 7s 11ms/step - loss: 0.3198 - acc: 0.8783\n",
      "Epoch 3/40\n",
      "600/600 [==============================] - 7s 12ms/step - loss: 0.2290 - acc: 0.9083\n",
      "Epoch 4/40\n",
      "600/600 [==============================] - 6s 11ms/step - loss: 0.1836 - acc: 0.9383\n",
      "Epoch 5/40\n",
      "600/600 [==============================] - 7s 11ms/step - loss: 0.1964 - acc: 0.9300\n",
      "Epoch 6/40\n",
      "600/600 [==============================] - 7s 11ms/step - loss: 0.1669 - acc: 0.9317\n",
      "Epoch 7/40\n",
      "600/600 [==============================] - 6s 11ms/step - loss: 0.1263 - acc: 0.9500\n",
      "Epoch 8/40\n",
      "600/600 [==============================] - 7s 11ms/step - loss: 0.0851 - acc: 0.9717\n",
      "Epoch 9/40\n",
      "600/600 [==============================] - 7s 11ms/step - loss: 0.1109 - acc: 0.9650\n",
      "Epoch 10/40\n",
      "600/600 [==============================] - 7s 11ms/step - loss: 0.0659 - acc: 0.9700\n",
      "Epoch 11/40\n",
      "600/600 [==============================] - 7s 11ms/step - loss: 0.0565 - acc: 0.9767\n",
      "Epoch 12/40\n",
      "600/600 [==============================] - 7s 11ms/step - loss: 0.0657 - acc: 0.9733\n",
      "Epoch 13/40\n",
      "600/600 [==============================] - 7s 11ms/step - loss: 0.0984 - acc: 0.9667\n",
      "Epoch 14/40\n",
      "600/600 [==============================] - 7s 11ms/step - loss: 0.0463 - acc: 0.9800\n",
      "Epoch 15/40\n",
      "600/600 [==============================] - 7s 11ms/step - loss: 0.0379 - acc: 0.9883\n",
      "Epoch 16/40\n",
      "600/600 [==============================] - 7s 11ms/step - loss: 0.0888 - acc: 0.9700\n",
      "Epoch 17/40\n",
      "600/600 [==============================] - 7s 11ms/step - loss: 0.0937 - acc: 0.9717\n",
      "Epoch 18/40\n",
      "600/600 [==============================] - 7s 12ms/step - loss: 0.2147 - acc: 0.9367\n",
      "Epoch 19/40\n",
      "600/600 [==============================] - 7s 11ms/step - loss: 0.0683 - acc: 0.9733\n",
      "Epoch 20/40\n",
      "600/600 [==============================] - 7s 11ms/step - loss: 0.0585 - acc: 0.9800\n",
      "Epoch 21/40\n",
      "600/600 [==============================] - 7s 11ms/step - loss: 0.0719 - acc: 0.9700\n",
      "Epoch 22/40\n",
      "600/600 [==============================] - 7s 11ms/step - loss: 0.0898 - acc: 0.9683\n",
      "Epoch 23/40\n",
      "600/600 [==============================] - 6s 11ms/step - loss: 0.0713 - acc: 0.9817\n",
      "Epoch 24/40\n",
      "600/600 [==============================] - 7s 11ms/step - loss: 0.1256 - acc: 0.9733\n",
      "Epoch 25/40\n",
      "600/600 [==============================] - 7s 11ms/step - loss: 0.0446 - acc: 0.9783\n",
      "Epoch 26/40\n",
      "600/600 [==============================] - 7s 11ms/step - loss: 0.0518 - acc: 0.9817\n",
      "Epoch 27/40\n",
      "600/600 [==============================] - 7s 11ms/step - loss: 0.0450 - acc: 0.9850\n",
      "Epoch 28/40\n",
      "600/600 [==============================] - 7s 11ms/step - loss: 0.0362 - acc: 0.9933\n",
      "Epoch 29/40\n",
      "600/600 [==============================] - 7s 11ms/step - loss: 0.0349 - acc: 0.9883\n",
      "Epoch 30/40\n",
      "600/600 [==============================] - 7s 11ms/step - loss: 0.0352 - acc: 0.9883\n",
      "Epoch 31/40\n",
      "600/600 [==============================] - 7s 11ms/step - loss: 0.0600 - acc: 0.9800\n",
      "Epoch 32/40\n",
      "600/600 [==============================] - 7s 11ms/step - loss: 0.0215 - acc: 0.9950\n",
      "Epoch 33/40\n",
      "600/600 [==============================] - 6s 11ms/step - loss: 0.0977 - acc: 0.9700\n",
      "Epoch 34/40\n",
      "600/600 [==============================] - 7s 11ms/step - loss: 0.0610 - acc: 0.9817\n",
      "Epoch 35/40\n",
      "600/600 [==============================] - 7s 11ms/step - loss: 0.0577 - acc: 0.9833\n",
      "Epoch 36/40\n",
      "600/600 [==============================] - 6s 11ms/step - loss: 0.0423 - acc: 0.9883\n",
      "Epoch 37/40\n",
      "600/600 [==============================] - 7s 11ms/step - loss: 0.0153 - acc: 0.9933\n",
      "Epoch 38/40\n",
      "600/600 [==============================] - 7s 11ms/step - loss: 0.0545 - acc: 0.9800\n",
      "Epoch 39/40\n",
      "600/600 [==============================] - 7s 11ms/step - loss: 0.0323 - acc: 0.9950\n",
      "Epoch 40/40\n",
      "600/600 [==============================] - 6s 11ms/step - loss: 0.0207 - acc: 0.9950\n"
     ]
    }
   ],
   "source": [
    "THistory2 = happyModel2.fit(X_train,Y_train, epochs=40,batch_size=16)"
   ]
  },
  {
   "cell_type": "code",
   "execution_count": 33,
   "metadata": {},
   "outputs": [
    {
     "data": {
      "text/plain": [
       "<matplotlib.legend.Legend at 0x7f2241e81550>"
      ]
     },
     "execution_count": 33,
     "metadata": {},
     "output_type": "execute_result"
    },
    {
     "data": {
      "image/png": "[encoded data removed]",
      "text/plain": [
       "<Figure size 432x288 with 1 Axes>"
      ]
     },
     "metadata": {},
     "output_type": "display_data"
    },
    {
     "data": {
      "image/png": "[encoded data removed]",
      "text/plain": [
       "<Figure size 432x288 with 1 Axes>"
      ]
     },
     "metadata": {},
     "output_type": "display_data"
    }
   ],
   "source": [
    "train_accuracy = THistory2.history['acc']\n",
    "train_loss = THistory2.history['loss']\n",
    "\n",
    "iterations = range(len(train_accuracy))\n",
    "plt.plot(iterations, train_accuracy, label='Training accuracy')\n",
    "plt.title('epochs vs Training accuracy')\n",
    "plt.legend()\n",
    "\n",
    "plt.figure()\n",
    "plt.plot(iterations, train_loss, label='Training Loss')\n",
    "plt.title('epochs vs Training Loss')\n",
    "plt.legend()"
   ]
  },
  {
   "cell_type": "code",
   "execution_count": 34,
   "metadata": {},
   "outputs": [
    {
     "name": "stdout",
     "output_type": "stream",
     "text": [
      "150/150 [==============================] - 1s 5ms/step\n",
      "\n",
      "Loss = 0.07384455939133962\n",
      "Test Accuracy = 0.9600000039736429\n"
     ]
    }
   ],
   "source": [
    "preds2 = happyModel2.evaluate(x=X_test, y=Y_test)\n",
    "\n",
    "print()\n",
    "print (\"Loss = \" + str(preds2[0]))\n",
    "print (\"Test Accuracy = \" + str(preds2[1]))"
   ]
  },
  {
   "cell_type": "markdown",
   "metadata": {},
   "source": [
    "## 5 - Predicting using LeNet-5"
   ]
  },
  {
   "cell_type": "markdown",
   "metadata": {},
   "source": [
    "LeNet-5 is proposed by Yann LeCun(received Turing award). It is base ConvNet for modern neural network (CNN).\n",
    "More about LeNet5 <a href=\"https://medium.com/@pechyonkin/key-deep-learning-architectures-lenet-5-6fc3c59e6f4\">here</a> and \n",
    "<a href=\"http://yann.lecun.com/exdb/publis/pdf/lecun-01a.pdf\">paper</a>"
   ]
  },
  {
   "cell_type": "code",
   "execution_count": 35,
   "metadata": {
    "collapsed": true
   },
   "outputs": [],
   "source": [
    "# Building LeNet-5 \n",
    "def create_model():\n",
    "    model = Sequential()\n",
    "    model.add(layers.Conv2D(filters=1, kernel_size=(1,1), strides=(2,2), name='Conv2D', input_shape=(64,64,3))) # For converting image to 32,32,1\n",
    "    model.add(layers.Conv2D(filters=6, kernel_size=(5, 5), activation='relu'))\n",
    "    model.add(layers.AveragePooling2D())\n",
    "\n",
    "    model.add(layers.Conv2D(filters=16, kernel_size=(5, 5), activation='relu'))\n",
    "    model.add(layers.AveragePooling2D())\n",
    "\n",
    "    model.add(layers.Flatten())\n",
    "\n",
    "    model.add(layers.Dense(units=120, activation='relu'))\n",
    "\n",
    "    model.add(layers.Dense(units=84, activation='relu'))\n",
    "\n",
    "    model.add(layers.Dense(units=1, activation = 'sigmoid'))\n",
    "    \n",
    "    return model"
   ]
  },
  {
   "cell_type": "code",
   "execution_count": 36,
   "metadata": {},
   "outputs": [
    {
     "name": "stdout",
     "output_type": "stream",
     "text": [
      "_________________________________________________________________\n",
      "Layer (type)                 Output Shape              Param #   \n",
      "=================================================================\n",
      "Conv2D (Conv2D)              (None, 32, 32, 1)         4         \n",
      "_________________________________________________________________\n",
      "conv2d_1 (Conv2D)            (None, 28, 28, 6)         156       \n",
      "_________________________________________________________________\n",
      "average_pooling2d_1 (Average (None, 14, 14, 6)         0         \n",
      "_________________________________________________________________\n",
      "conv2d_2 (Conv2D)            (None, 10, 10, 16)        2416      \n",
      "_________________________________________________________________\n",
      "average_pooling2d_2 (Average (None, 5, 5, 16)          0         \n",
      "_________________________________________________________________\n",
      "flatten_8 (Flatten)          (None, 400)               0         \n",
      "_________________________________________________________________\n",
      "dense_1 (Dense)              (None, 120)               48120     \n",
      "_________________________________________________________________\n",
      "dense_2 (Dense)              (None, 84)                10164     \n",
      "_________________________________________________________________\n",
      "dense_3 (Dense)              (None, 1)                 85        \n",
      "=================================================================\n",
      "Total params: 60,945\n",
      "Trainable params: 60,945\n",
      "Non-trainable params: 0\n",
      "_________________________________________________________________\n"
     ]
    }
   ],
   "source": [
    "model = create_model()\n",
    "model.summary()"
   ]
  },
  {
   "cell_type": "code",
   "execution_count": 9,
   "metadata": {},
   "outputs": [
    {
     "data": {
      "image/svg+xml": [
       "<svg height=\"702pt\" viewBox=\"0.00 0.00 253.00 702.00\" width=\"253pt\" xmlns=\"http://www.w3.org/2000/svg\" xmlns:xlink=\"http://www.w3.org/1999/xlink\">\n",
       "<g class=\"graph\" id=\"graph0\" transform=\"scale(1 1) rotate(0) translate(4 698)\">\n",
       "<title>G</title>\n",
       "<polygon fill=\"white\" points=\"-4,4 -4,-698 249,-698 249,4 -4,4\" stroke=\"none\"/>\n",
       "<!-- 139651698891800 -->\n",
       "<g class=\"node\" id=\"node1\"><title>139651698891800</title>\n",
       "<polygon fill=\"none\" points=\"40.5,-657.5 40.5,-693.5 204.5,-693.5 204.5,-657.5 40.5,-657.5\" stroke=\"black\"/>\n",
       "<text font-family=\"Times,serif\" font-size=\"14.00\" text-anchor=\"middle\" x=\"122.5\" y=\"-671.8\">Conv2D_input: InputLayer</text>\n",
       "</g>\n",
       "<!-- 139651698891520 -->\n",
       "<g class=\"node\" id=\"node2\"><title>139651698891520</title>\n",
       "<polygon fill=\"none\" points=\"64.5,-584.5 64.5,-620.5 180.5,-620.5 180.5,-584.5 64.5,-584.5\" stroke=\"black\"/>\n",
       "<text font-family=\"Times,serif\" font-size=\"14.00\" text-anchor=\"middle\" x=\"122.5\" y=\"-598.8\">Conv2D: Conv2D</text>\n",
       "</g>\n",
       "<!-- 139651698891800&#45;&gt;139651698891520 -->\n",
       "<g class=\"edge\" id=\"edge1\"><title>139651698891800-&gt;139651698891520</title>\n",
       "<path d=\"M122.5,-657.313C122.5,-649.289 122.5,-639.547 122.5,-630.569\" fill=\"none\" stroke=\"black\"/>\n",
       "<polygon fill=\"black\" points=\"126,-630.529 122.5,-620.529 119,-630.529 126,-630.529\" stroke=\"black\"/>\n",
       "</g>\n",
       "<!-- 139651698892360 -->\n",
       "<g class=\"node\" id=\"node3\"><title>139651698892360</title>\n",
       "<polygon fill=\"none\" points=\"61,-511.5 61,-547.5 184,-547.5 184,-511.5 61,-511.5\" stroke=\"black\"/>\n",
       "<text font-family=\"Times,serif\" font-size=\"14.00\" text-anchor=\"middle\" x=\"122.5\" y=\"-525.8\">conv2d_1: Conv2D</text>\n",
       "</g>\n",
       "<!-- 139651698891520&#45;&gt;139651698892360 -->\n",
       "<g class=\"edge\" id=\"edge2\"><title>139651698891520-&gt;139651698892360</title>\n",
       "<path d=\"M122.5,-584.313C122.5,-576.289 122.5,-566.547 122.5,-557.569\" fill=\"none\" stroke=\"black\"/>\n",
       "<polygon fill=\"black\" points=\"126,-557.529 122.5,-547.529 119,-557.529 126,-557.529\" stroke=\"black\"/>\n",
       "</g>\n",
       "<!-- 139651698888776 -->\n",
       "<g class=\"node\" id=\"node4\"><title>139651698888776</title>\n",
       "<polygon fill=\"none\" points=\"0,-438.5 0,-474.5 245,-474.5 245,-438.5 0,-438.5\" stroke=\"black\"/>\n",
       "<text font-family=\"Times,serif\" font-size=\"14.00\" text-anchor=\"middle\" x=\"122.5\" y=\"-452.8\">average_pooling2d_1: AveragePooling2D</text>\n",
       "</g>\n",
       "<!-- 139651698892360&#45;&gt;139651698888776 -->\n",
       "<g class=\"edge\" id=\"edge3\"><title>139651698892360-&gt;139651698888776</title>\n",
       "<path d=\"M122.5,-511.313C122.5,-503.289 122.5,-493.547 122.5,-484.569\" fill=\"none\" stroke=\"black\"/>\n",
       "<polygon fill=\"black\" points=\"126,-484.529 122.5,-474.529 119,-484.529 126,-484.529\" stroke=\"black\"/>\n",
       "</g>\n",
       "<!-- 139651701357984 -->\n",
       "<g class=\"node\" id=\"node5\"><title>139651701357984</title>\n",
       "<polygon fill=\"none\" points=\"61,-365.5 61,-401.5 184,-401.5 184,-365.5 61,-365.5\" stroke=\"black\"/>\n",
       "<text font-family=\"Times,serif\" font-size=\"14.00\" text-anchor=\"middle\" x=\"122.5\" y=\"-379.8\">conv2d_2: Conv2D</text>\n",
       "</g>\n",
       "<!-- 139651698888776&#45;&gt;139651701357984 -->\n",
       "<g class=\"edge\" id=\"edge4\"><title>139651698888776-&gt;139651701357984</title>\n",
       "<path d=\"M122.5,-438.313C122.5,-430.289 122.5,-420.547 122.5,-411.569\" fill=\"none\" stroke=\"black\"/>\n",
       "<polygon fill=\"black\" points=\"126,-411.529 122.5,-401.529 119,-411.529 126,-411.529\" stroke=\"black\"/>\n",
       "</g>\n",
       "<!-- 139651699305608 -->\n",
       "<g class=\"node\" id=\"node6\"><title>139651699305608</title>\n",
       "<polygon fill=\"none\" points=\"0,-292.5 0,-328.5 245,-328.5 245,-292.5 0,-292.5\" stroke=\"black\"/>\n",
       "<text font-family=\"Times,serif\" font-size=\"14.00\" text-anchor=\"middle\" x=\"122.5\" y=\"-306.8\">average_pooling2d_2: AveragePooling2D</text>\n",
       "</g>\n",
       "<!-- 139651701357984&#45;&gt;139651699305608 -->\n",
       "<g class=\"edge\" id=\"edge5\"><title>139651701357984-&gt;139651699305608</title>\n",
       "<path d=\"M122.5,-365.313C122.5,-357.289 122.5,-347.547 122.5,-338.569\" fill=\"none\" stroke=\"black\"/>\n",
       "<polygon fill=\"black\" points=\"126,-338.529 122.5,-328.529 119,-338.529 126,-338.529\" stroke=\"black\"/>\n",
       "</g>\n",
       "<!-- 139651700398232 -->\n",
       "<g class=\"node\" id=\"node7\"><title>139651700398232</title>\n",
       "<polygon fill=\"none\" points=\"67.5,-219.5 67.5,-255.5 177.5,-255.5 177.5,-219.5 67.5,-219.5\" stroke=\"black\"/>\n",
       "<text font-family=\"Times,serif\" font-size=\"14.00\" text-anchor=\"middle\" x=\"122.5\" y=\"-233.8\">flatten_2: Flatten</text>\n",
       "</g>\n",
       "<!-- 139651699305608&#45;&gt;139651700398232 -->\n",
       "<g class=\"edge\" id=\"edge6\"><title>139651699305608-&gt;139651700398232</title>\n",
       "<path d=\"M122.5,-292.313C122.5,-284.289 122.5,-274.547 122.5,-265.569\" fill=\"none\" stroke=\"black\"/>\n",
       "<polygon fill=\"black\" points=\"126,-265.529 122.5,-255.529 119,-265.529 126,-265.529\" stroke=\"black\"/>\n",
       "</g>\n",
       "<!-- 139651700400080 -->\n",
       "<g class=\"node\" id=\"node8\"><title>139651700400080</title>\n",
       "<polygon fill=\"none\" points=\"71.5,-146.5 71.5,-182.5 173.5,-182.5 173.5,-146.5 71.5,-146.5\" stroke=\"black\"/>\n",
       "<text font-family=\"Times,serif\" font-size=\"14.00\" text-anchor=\"middle\" x=\"122.5\" y=\"-160.8\">dense_1: Dense</text>\n",
       "</g>\n",
       "<!-- 139651700398232&#45;&gt;139651700400080 -->\n",
       "<g class=\"edge\" id=\"edge7\"><title>139651700398232-&gt;139651700400080</title>\n",
       "<path d=\"M122.5,-219.313C122.5,-211.289 122.5,-201.547 122.5,-192.569\" fill=\"none\" stroke=\"black\"/>\n",
       "<polygon fill=\"black\" points=\"126,-192.529 122.5,-182.529 119,-192.529 126,-192.529\" stroke=\"black\"/>\n",
       "</g>\n",
       "<!-- 139651699897176 -->\n",
       "<g class=\"node\" id=\"node9\"><title>139651699897176</title>\n",
       "<polygon fill=\"none\" points=\"71.5,-73.5 71.5,-109.5 173.5,-109.5 173.5,-73.5 71.5,-73.5\" stroke=\"black\"/>\n",
       "<text font-family=\"Times,serif\" font-size=\"14.00\" text-anchor=\"middle\" x=\"122.5\" y=\"-87.8\">dense_2: Dense</text>\n",
       "</g>\n",
       "<!-- 139651700400080&#45;&gt;139651699897176 -->\n",
       "<g class=\"edge\" id=\"edge8\"><title>139651700400080-&gt;139651699897176</title>\n",
       "<path d=\"M122.5,-146.313C122.5,-138.289 122.5,-128.547 122.5,-119.569\" fill=\"none\" stroke=\"black\"/>\n",
       "<polygon fill=\"black\" points=\"126,-119.529 122.5,-109.529 119,-119.529 126,-119.529\" stroke=\"black\"/>\n",
       "</g>\n",
       "<!-- 139651699403968 -->\n",
       "<g class=\"node\" id=\"node10\"><title>139651699403968</title>\n",
       "<polygon fill=\"none\" points=\"71.5,-0.5 71.5,-36.5 173.5,-36.5 173.5,-0.5 71.5,-0.5\" stroke=\"black\"/>\n",
       "<text font-family=\"Times,serif\" font-size=\"14.00\" text-anchor=\"middle\" x=\"122.5\" y=\"-14.8\">dense_3: Dense</text>\n",
       "</g>\n",
       "<!-- 139651699897176&#45;&gt;139651699403968 -->\n",
       "<g class=\"edge\" id=\"edge9\"><title>139651699897176-&gt;139651699403968</title>\n",
       "<path d=\"M122.5,-73.3129C122.5,-65.2895 122.5,-55.5475 122.5,-46.5691\" fill=\"none\" stroke=\"black\"/>\n",
       "<polygon fill=\"black\" points=\"126,-46.5288 122.5,-36.5288 119,-46.5289 126,-46.5288\" stroke=\"black\"/>\n",
       "</g>\n",
       "</g>\n",
       "</svg>"
      ],
      "text/plain": [
       "<IPython.core.display.SVG object>"
      ]
     },
     "execution_count": 9,
     "metadata": {},
     "output_type": "execute_result"
    }
   ],
   "source": [
    "plot_model(model, to_file='HappyModel.png')\n",
    "SVG(model_to_dot(model).create(prog='dot', format='svg'))"
   ]
  },
  {
   "cell_type": "code",
   "execution_count": 37,
   "metadata": {},
   "outputs": [
    {
     "data": {
      "image/svg+xml": [
       "<svg height=\"702pt\" viewBox=\"0.00 0.00 253.00 702.00\" width=\"253pt\" xmlns=\"http://www.w3.org/2000/svg\" xmlns:xlink=\"http://www.w3.org/1999/xlink\">\n",
       "<g class=\"graph\" id=\"graph0\" transform=\"scale(1 1) rotate(0) translate(4 698)\">\n",
       "<title>G</title>\n",
       "<polygon fill=\"white\" points=\"-4,4 -4,-698 249,-698 249,4 -4,4\" stroke=\"none\"/>\n",
       "<!-- 139785118083392 -->\n",
       "<g class=\"node\" id=\"node1\"><title>139785118083392</title>\n",
       "<polygon fill=\"none\" points=\"64.5,-584.5 64.5,-620.5 180.5,-620.5 180.5,-584.5 64.5,-584.5\" stroke=\"black\"/>\n",
       "<text font-family=\"Times,serif\" font-size=\"14.00\" text-anchor=\"middle\" x=\"122.5\" y=\"-598.8\">Conv2D: Conv2D</text>\n",
       "</g>\n",
       "<!-- 139785110870504 -->\n",
       "<g class=\"node\" id=\"node2\"><title>139785110870504</title>\n",
       "<polygon fill=\"none\" points=\"61,-511.5 61,-547.5 184,-547.5 184,-511.5 61,-511.5\" stroke=\"black\"/>\n",
       "<text font-family=\"Times,serif\" font-size=\"14.00\" text-anchor=\"middle\" x=\"122.5\" y=\"-525.8\">conv2d_1: Conv2D</text>\n",
       "</g>\n",
       "<!-- 139785118083392&#45;&gt;139785110870504 -->\n",
       "<g class=\"edge\" id=\"edge2\"><title>139785118083392-&gt;139785110870504</title>\n",
       "<path d=\"M122.5,-584.313C122.5,-576.289 122.5,-566.547 122.5,-557.569\" fill=\"none\" stroke=\"black\"/>\n",
       "<polygon fill=\"black\" points=\"126,-557.529 122.5,-547.529 119,-557.529 126,-557.529\" stroke=\"black\"/>\n",
       "</g>\n",
       "<!-- 139785111118512 -->\n",
       "<g class=\"node\" id=\"node3\"><title>139785111118512</title>\n",
       "<polygon fill=\"none\" points=\"0,-438.5 0,-474.5 245,-474.5 245,-438.5 0,-438.5\" stroke=\"black\"/>\n",
       "<text font-family=\"Times,serif\" font-size=\"14.00\" text-anchor=\"middle\" x=\"122.5\" y=\"-452.8\">average_pooling2d_1: AveragePooling2D</text>\n",
       "</g>\n",
       "<!-- 139785110870504&#45;&gt;139785111118512 -->\n",
       "<g class=\"edge\" id=\"edge3\"><title>139785110870504-&gt;139785111118512</title>\n",
       "<path d=\"M122.5,-511.313C122.5,-503.289 122.5,-493.547 122.5,-484.569\" fill=\"none\" stroke=\"black\"/>\n",
       "<polygon fill=\"black\" points=\"126,-484.529 122.5,-474.529 119,-484.529 126,-484.529\" stroke=\"black\"/>\n",
       "</g>\n",
       "<!-- 139785111118848 -->\n",
       "<g class=\"node\" id=\"node4\"><title>139785111118848</title>\n",
       "<polygon fill=\"none\" points=\"61,-365.5 61,-401.5 184,-401.5 184,-365.5 61,-365.5\" stroke=\"black\"/>\n",
       "<text font-family=\"Times,serif\" font-size=\"14.00\" text-anchor=\"middle\" x=\"122.5\" y=\"-379.8\">conv2d_2: Conv2D</text>\n",
       "</g>\n",
       "<!-- 139785111118512&#45;&gt;139785111118848 -->\n",
       "<g class=\"edge\" id=\"edge4\"><title>139785111118512-&gt;139785111118848</title>\n",
       "<path d=\"M122.5,-438.313C122.5,-430.289 122.5,-420.547 122.5,-411.569\" fill=\"none\" stroke=\"black\"/>\n",
       "<polygon fill=\"black\" points=\"126,-411.529 122.5,-401.529 119,-411.529 126,-411.529\" stroke=\"black\"/>\n",
       "</g>\n",
       "<!-- 139785110612568 -->\n",
       "<g class=\"node\" id=\"node5\"><title>139785110612568</title>\n",
       "<polygon fill=\"none\" points=\"0,-292.5 0,-328.5 245,-328.5 245,-292.5 0,-292.5\" stroke=\"black\"/>\n",
       "<text font-family=\"Times,serif\" font-size=\"14.00\" text-anchor=\"middle\" x=\"122.5\" y=\"-306.8\">average_pooling2d_2: AveragePooling2D</text>\n",
       "</g>\n",
       "<!-- 139785111118848&#45;&gt;139785110612568 -->\n",
       "<g class=\"edge\" id=\"edge5\"><title>139785111118848-&gt;139785110612568</title>\n",
       "<path d=\"M122.5,-365.313C122.5,-357.289 122.5,-347.547 122.5,-338.569\" fill=\"none\" stroke=\"black\"/>\n",
       "<polygon fill=\"black\" points=\"126,-338.529 122.5,-328.529 119,-338.529 126,-338.529\" stroke=\"black\"/>\n",
       "</g>\n",
       "<!-- 139785110613296 -->\n",
       "<g class=\"node\" id=\"node6\"><title>139785110613296</title>\n",
       "<polygon fill=\"none\" points=\"67.5,-219.5 67.5,-255.5 177.5,-255.5 177.5,-219.5 67.5,-219.5\" stroke=\"black\"/>\n",
       "<text font-family=\"Times,serif\" font-size=\"14.00\" text-anchor=\"middle\" x=\"122.5\" y=\"-233.8\">flatten_8: Flatten</text>\n",
       "</g>\n",
       "<!-- 139785110612568&#45;&gt;139785110613296 -->\n",
       "<g class=\"edge\" id=\"edge6\"><title>139785110612568-&gt;139785110613296</title>\n",
       "<path d=\"M122.5,-292.313C122.5,-284.289 122.5,-274.547 122.5,-265.569\" fill=\"none\" stroke=\"black\"/>\n",
       "<polygon fill=\"black\" points=\"126,-265.529 122.5,-255.529 119,-265.529 126,-265.529\" stroke=\"black\"/>\n",
       "</g>\n",
       "<!-- 139785110707672 -->\n",
       "<g class=\"node\" id=\"node7\"><title>139785110707672</title>\n",
       "<polygon fill=\"none\" points=\"71.5,-146.5 71.5,-182.5 173.5,-182.5 173.5,-146.5 71.5,-146.5\" stroke=\"black\"/>\n",
       "<text font-family=\"Times,serif\" font-size=\"14.00\" text-anchor=\"middle\" x=\"122.5\" y=\"-160.8\">dense_1: Dense</text>\n",
       "</g>\n",
       "<!-- 139785110613296&#45;&gt;139785110707672 -->\n",
       "<g class=\"edge\" id=\"edge7\"><title>139785110613296-&gt;139785110707672</title>\n",
       "<path d=\"M122.5,-219.313C122.5,-211.289 122.5,-201.547 122.5,-192.569\" fill=\"none\" stroke=\"black\"/>\n",
       "<polygon fill=\"black\" points=\"126,-192.529 122.5,-182.529 119,-192.529 126,-192.529\" stroke=\"black\"/>\n",
       "</g>\n",
       "<!-- 139785110789368 -->\n",
       "<g class=\"node\" id=\"node8\"><title>139785110789368</title>\n",
       "<polygon fill=\"none\" points=\"71.5,-73.5 71.5,-109.5 173.5,-109.5 173.5,-73.5 71.5,-73.5\" stroke=\"black\"/>\n",
       "<text font-family=\"Times,serif\" font-size=\"14.00\" text-anchor=\"middle\" x=\"122.5\" y=\"-87.8\">dense_2: Dense</text>\n",
       "</g>\n",
       "<!-- 139785110707672&#45;&gt;139785110789368 -->\n",
       "<g class=\"edge\" id=\"edge8\"><title>139785110707672-&gt;139785110789368</title>\n",
       "<path d=\"M122.5,-146.313C122.5,-138.289 122.5,-128.547 122.5,-119.569\" fill=\"none\" stroke=\"black\"/>\n",
       "<polygon fill=\"black\" points=\"126,-119.529 122.5,-109.529 119,-119.529 126,-119.529\" stroke=\"black\"/>\n",
       "</g>\n",
       "<!-- 139785110483800 -->\n",
       "<g class=\"node\" id=\"node9\"><title>139785110483800</title>\n",
       "<polygon fill=\"none\" points=\"71.5,-0.5 71.5,-36.5 173.5,-36.5 173.5,-0.5 71.5,-0.5\" stroke=\"black\"/>\n",
       "<text font-family=\"Times,serif\" font-size=\"14.00\" text-anchor=\"middle\" x=\"122.5\" y=\"-14.8\">dense_3: Dense</text>\n",
       "</g>\n",
       "<!-- 139785110789368&#45;&gt;139785110483800 -->\n",
       "<g class=\"edge\" id=\"edge9\"><title>139785110789368-&gt;139785110483800</title>\n",
       "<path d=\"M122.5,-73.3129C122.5,-65.2895 122.5,-55.5475 122.5,-46.5691\" fill=\"none\" stroke=\"black\"/>\n",
       "<polygon fill=\"black\" points=\"126,-46.5288 122.5,-36.5288 119,-46.5289 126,-46.5288\" stroke=\"black\"/>\n",
       "</g>\n",
       "<!-- 139785117631488 -->\n",
       "<g class=\"node\" id=\"node10\"><title>139785117631488</title>\n",
       "<polygon fill=\"none\" points=\"63.5,-657.5 63.5,-693.5 181.5,-693.5 181.5,-657.5 63.5,-657.5\" stroke=\"black\"/>\n",
       "<text font-family=\"Times,serif\" font-size=\"14.00\" text-anchor=\"middle\" x=\"122.5\" y=\"-671.8\">139785117631488</text>\n",
       "</g>\n",
       "<!-- 139785117631488&#45;&gt;139785118083392 -->\n",
       "<g class=\"edge\" id=\"edge1\"><title>139785117631488-&gt;139785118083392</title>\n",
       "<path d=\"M122.5,-657.313C122.5,-649.289 122.5,-639.547 122.5,-630.569\" fill=\"none\" stroke=\"black\"/>\n",
       "<polygon fill=\"black\" points=\"126,-630.529 122.5,-620.529 119,-630.529 126,-630.529\" stroke=\"black\"/>\n",
       "</g>\n",
       "</g>\n",
       "</svg>"
      ],
      "text/plain": [
       "<IPython.core.display.SVG object>"
      ]
     },
     "execution_count": 37,
     "metadata": {},
     "output_type": "execute_result"
    }
   ],
   "source": [
    "plot_model(model, to_file='HappyModel.png')\n",
    "SVG(model_to_dot(model).create(prog='dot', format='svg'))"
   ]
  },
  {
   "cell_type": "code",
   "execution_count": 41,
   "metadata": {},
   "outputs": [
    {
     "name": "stdout",
     "output_type": "stream",
     "text": [
      "Epoch 1/20\n",
      "600/600 [==============================] - 1s 2ms/step - loss: 0.6806 - acc: 0.5683\n",
      "Epoch 2/20\n",
      "600/600 [==============================] - 0s 693us/step - loss: 0.6385 - acc: 0.6233\n",
      "Epoch 3/20\n",
      "600/600 [==============================] - 0s 688us/step - loss: 0.5721 - acc: 0.6950\n",
      "Epoch 4/20\n",
      "600/600 [==============================] - 0s 692us/step - loss: 0.4751 - acc: 0.7700\n",
      "Epoch 5/20\n",
      "600/600 [==============================] - 0s 698us/step - loss: 0.3945 - acc: 0.8117\n",
      "Epoch 6/20\n",
      "600/600 [==============================] - 0s 679us/step - loss: 0.2972 - acc: 0.8800\n",
      "Epoch 7/20\n",
      "600/600 [==============================] - 0s 682us/step - loss: 0.2894 - acc: 0.8883\n",
      "Epoch 8/20\n",
      "600/600 [==============================] - 0s 722us/step - loss: 0.2821 - acc: 0.8850\n",
      "Epoch 9/20\n",
      "600/600 [==============================] - 0s 697us/step - loss: 0.2208 - acc: 0.9117\n",
      "Epoch 10/20\n",
      "600/600 [==============================] - 0s 690us/step - loss: 0.2056 - acc: 0.9200\n",
      "Epoch 11/20\n",
      "600/600 [==============================] - 0s 674us/step - loss: 0.1733 - acc: 0.9333\n",
      "Epoch 12/20\n",
      "600/600 [==============================] - 0s 706us/step - loss: 0.1515 - acc: 0.9450\n",
      "Epoch 13/20\n",
      "600/600 [==============================] - 0s 686us/step - loss: 0.1601 - acc: 0.9450\n",
      "Epoch 14/20\n",
      "600/600 [==============================] - 0s 700us/step - loss: 0.1414 - acc: 0.9400\n",
      "Epoch 15/20\n",
      "600/600 [==============================] - 0s 698us/step - loss: 0.1402 - acc: 0.9433\n",
      "Epoch 16/20\n",
      "600/600 [==============================] - 0s 673us/step - loss: 0.1344 - acc: 0.9483\n",
      "Epoch 17/20\n",
      "600/600 [==============================] - 0s 674us/step - loss: 0.1173 - acc: 0.9567\n",
      "Epoch 18/20\n",
      "600/600 [==============================] - 0s 692us/step - loss: 0.1154 - acc: 0.9517\n",
      "Epoch 19/20\n",
      "600/600 [==============================] - 0s 668us/step - loss: 0.1409 - acc: 0.9400\n",
      "Epoch 20/20\n",
      "600/600 [==============================] - 0s 684us/step - loss: 0.1101 - acc: 0.9650\n"
     ]
    },
    {
     "data": {
      "text/plain": [
       "<matplotlib.legend.Legend at 0x7f2240d6b2b0>"
      ]
     },
     "execution_count": 41,
     "metadata": {},
     "output_type": "execute_result"
    },
    {
     "data": {
      "image/png": "[encoded data removed]",
      "text/plain": [
       "<Figure size 432x288 with 1 Axes>"
      ]
     },
     "metadata": {},
     "output_type": "display_data"
    },
    {
     "data": {
      "image/png": "[encoded data removed]",
      "text/plain": [
       "<Figure size 432x288 with 1 Axes>"
      ]
     },
     "metadata": {},
     "output_type": "display_data"
    }
   ],
   "source": [
    "lenet5 = create_model()\n",
    "lenet5.compile(optimizer='Adam', loss='binary_crossentropy', metrics=[\"accuracy\"])\n",
    "history = lenet5.fit(X_train,Y_train, epochs=20,batch_size=32)\n",
    "\n",
    "train_accuracy = history.history['acc']\n",
    "train_loss = history.history['loss']\n",
    "\n",
    "iterations = range(len(train_accuracy))\n",
    "plt.plot(iterations, train_accuracy, label='Training accuracy')\n",
    "plt.title('epochs vs Training accuracy')\n",
    "plt.legend()\n",
    "\n",
    "plt.figure()\n",
    "plt.plot(iterations, train_loss, label='Training Loss')\n",
    "plt.title('epochs vs Training Loss')\n",
    "plt.legend()"
   ]
  },
  {
   "cell_type": "code",
   "execution_count": 42,
   "metadata": {},
   "outputs": [
    {
     "name": "stdout",
     "output_type": "stream",
     "text": [
      "150/150 [==============================] - 0s 3ms/step\n",
      "\n",
      "Loss = 0.15136117815971376\n",
      "Test Accuracy = 0.9466666706403096\n"
     ]
    }
   ],
   "source": [
    "preds = lenet5.evaluate(x=X_test, y=Y_test)\n",
    "\n",
    "print (\"\\nLoss = \" + str(preds[0]))\n",
    "print (\"Test Accuracy = \" + str(preds[1]))\n"
   ]
  },
  {
   "cell_type": "markdown",
   "metadata": {},
   "source": [
    "## 6 - Test with your own image"
   ]
  },
  {
   "cell_type": "markdown",
   "metadata": {},
   "source": [
    "Change path to predict your pic is happy or not"
   ]
  },
  {
   "cell_type": "markdown",
   "metadata": {},
   "source": [
    "path = 'https://www.cifar.ca/images/default-source/bios/lmb_yannlacun.png'\n",
    "\n",
    "img = image.load_img(path, target_size=(64, 64))\n",
    "imshow(img)\n",
    "\n",
    "img = image.img_to_array(img)\n",
    "img = np.expand_dims(img, axis=0)\n",
    "img = preprocess_input(img)\n",
    "\n",
    "print(lenet2.predict(img))"
   ]
  },
  {
   "cell_type": "markdown",
   "metadata": {},
   "source": [
    "## Conclusion"
   ]
  },
  {
   "cell_type": "markdown",
   "metadata": {},
   "source": [
    "<ul>\n",
    "<li>LeNet 5 : 94.6% accuracy</li>\n",
    "<li>Coursera model :  97.9% accuracy with batch size 30 and epoch 20 where coursera suggested model got 96% accuracy</li>\n",
    "<li>Compared SGD, RMSprop and Adam Optimizers. Among those Adam got hight accuracy</li>\n",
    "</ul>\n",
    "*Note :* Accuracy is not same everytime "
   ]
  }
 ],
 "metadata": {
  "kernelspec": {
   "display_name": "Python 3",
   "language": "python",
   "name": "python3"
  },
  "language_info": {
   "codemirror_mode": {
    "name": "ipython",
    "version": 3
   },
   "file_extension": ".py",
   "mimetype": "text/x-python",
   "name": "python",
   "nbconvert_exporter": "python",
   "pygments_lexer": "ipython3",
   "version": "3.6.5"
  }
 },
 "nbformat": 4,
 "nbformat_minor": 1
}
